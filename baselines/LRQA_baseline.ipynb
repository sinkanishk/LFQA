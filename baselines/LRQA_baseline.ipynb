{
 "cells": [
  {
   "cell_type": "code",
   "execution_count": 1,
   "id": "719d3bff",
   "metadata": {},
   "outputs": [],
   "source": [
    "EXPDIR='/dvmm-filer3a/users/kanishk/projects/quality-main/baselines/output'"
   ]
  },
  {
   "cell_type": "code",
   "execution_count": 2,
   "id": "d1c3edd9",
   "metadata": {},
   "outputs": [
    {
     "name": "stdout",
     "output_type": "stream",
     "text": [
      "/dvmm-filer3a/users/kanishk/projects/quality-main/baselines/lrqa\n"
     ]
    }
   ],
   "source": [
    "cd lrqa"
   ]
  },
  {
   "cell_type": "code",
   "execution_count": 1,
   "id": "0ec0d75a",
   "metadata": {},
   "outputs": [
    {
     "data": {
      "text/plain": [
       "'/dvmm-filer3a/users/kanishk/projects/quality-main/baselines'"
      ]
     },
     "execution_count": 1,
     "metadata": {},
     "output_type": "execute_result"
    }
   ],
   "source": [
    "pwd"
   ]
  },
  {
   "cell_type": "code",
   "execution_count": 7,
   "id": "0e88365a",
   "metadata": {},
   "outputs": [
    {
     "name": "stdout",
     "output_type": "stream",
     "text": [
      "Collecting torch\n",
      "  Using cached torch-1.13.0-cp37-cp37m-manylinux1_x86_64.whl (890.2 MB)\n",
      "Collecting nvidia-cublas-cu11==11.10.3.66\n",
      "  Using cached nvidia_cublas_cu11-11.10.3.66-py3-none-manylinux1_x86_64.whl (317.1 MB)\n",
      "Requirement already satisfied: typing-extensions in /dvmm-filer2/users/kanishk/miniconda3/lib/python3.7/site-packages (from torch) (4.4.0)\n",
      "Collecting nvidia-cuda-nvrtc-cu11==11.7.99\n",
      "  Using cached nvidia_cuda_nvrtc_cu11-11.7.99-2-py3-none-manylinux1_x86_64.whl (21.0 MB)\n",
      "Collecting nvidia-cuda-runtime-cu11==11.7.99\n",
      "  Using cached nvidia_cuda_runtime_cu11-11.7.99-py3-none-manylinux1_x86_64.whl (849 kB)\n",
      "Collecting nvidia-cudnn-cu11==8.5.0.96\n",
      "  Using cached nvidia_cudnn_cu11-8.5.0.96-2-py3-none-manylinux1_x86_64.whl (557.1 MB)\n",
      "Requirement already satisfied: wheel in /dvmm-filer2/users/kanishk/miniconda3/lib/python3.7/site-packages (from nvidia-cublas-cu11==11.10.3.66->torch) (0.37.1)\n",
      "Requirement already satisfied: setuptools in /dvmm-filer2/users/kanishk/miniconda3/lib/python3.7/site-packages (from nvidia-cublas-cu11==11.10.3.66->torch) (61.2.0)\n",
      "Installing collected packages: nvidia-cublas-cu11, nvidia-cudnn-cu11, nvidia-cuda-runtime-cu11, nvidia-cuda-nvrtc-cu11, torch\n",
      "Successfully installed nvidia-cublas-cu11-11.10.3.66 nvidia-cuda-nvrtc-cu11-11.7.99 nvidia-cuda-runtime-cu11-11.7.99 nvidia-cudnn-cu11-8.5.0.96 torch-1.13.0\n"
     ]
    }
   ],
   "source": [
    "!pip install torch"
   ]
  },
  {
   "cell_type": "code",
   "execution_count": 10,
   "id": "7a265c16",
   "metadata": {},
   "outputs": [
    {
     "name": "stdout",
     "output_type": "stream",
     "text": [
      "Collecting transformers\n",
      "  Downloading transformers-4.25.1-py3-none-any.whl (5.8 MB)\n",
      "\u001b[K     |████████████████████████████████| 5.8 MB 22.7 MB/s eta 0:00:01\n",
      "\u001b[?25hRequirement already satisfied: tqdm>=4.27 in /dvmm-filer2/users/kanishk/miniconda3/lib/python3.7/site-packages (from transformers) (4.63.0)\n",
      "Collecting tokenizers!=0.11.3,<0.14,>=0.11.1\n",
      "  Downloading tokenizers-0.13.2-cp37-cp37m-manylinux_2_17_x86_64.manylinux2014_x86_64.whl (7.6 MB)\n",
      "\u001b[K     |████████████████████████████████| 7.6 MB 68.5 MB/s eta 0:00:01\n",
      "\u001b[?25hRequirement already satisfied: packaging>=20.0 in /dvmm-filer2/users/kanishk/miniconda3/lib/python3.7/site-packages (from transformers) (21.3)\n",
      "Collecting filelock\n",
      "  Using cached filelock-3.8.2-py3-none-any.whl (10 kB)\n",
      "Collecting pyyaml>=5.1\n",
      "  Downloading PyYAML-6.0-cp37-cp37m-manylinux_2_5_x86_64.manylinux1_x86_64.manylinux_2_12_x86_64.manylinux2010_x86_64.whl (596 kB)\n",
      "\u001b[K     |████████████████████████████████| 596 kB 42.8 MB/s eta 0:00:01\n",
      "\u001b[?25hCollecting huggingface-hub<1.0,>=0.10.0\n",
      "  Downloading huggingface_hub-0.11.1-py3-none-any.whl (182 kB)\n",
      "\u001b[K     |████████████████████████████████| 182 kB 65.0 MB/s eta 0:00:01\n",
      "\u001b[?25hRequirement already satisfied: requests in /dvmm-filer2/users/kanishk/miniconda3/lib/python3.7/site-packages (from transformers) (2.27.1)\n",
      "Collecting regex!=2019.12.17\n",
      "  Using cached regex-2022.10.31-cp37-cp37m-manylinux_2_17_x86_64.manylinux2014_x86_64.whl (757 kB)\n",
      "Requirement already satisfied: numpy>=1.17 in /dvmm-filer2/users/kanishk/miniconda3/lib/python3.7/site-packages (from transformers) (1.21.6)\n",
      "Requirement already satisfied: importlib-metadata in /dvmm-filer2/users/kanishk/miniconda3/lib/python3.7/site-packages (from transformers) (4.11.3)\n",
      "Requirement already satisfied: typing-extensions>=3.7.4.3 in /dvmm-filer2/users/kanishk/miniconda3/lib/python3.7/site-packages (from huggingface-hub<1.0,>=0.10.0->transformers) (4.4.0)\n",
      "Requirement already satisfied: pyparsing!=3.0.5,>=2.0.2 in /dvmm-filer2/users/kanishk/miniconda3/lib/python3.7/site-packages (from packaging>=20.0->transformers) (3.0.9)\n",
      "Requirement already satisfied: zipp>=0.5 in /dvmm-filer2/users/kanishk/miniconda3/lib/python3.7/site-packages (from importlib-metadata->transformers) (3.8.0)\n",
      "Requirement already satisfied: urllib3<1.27,>=1.21.1 in /dvmm-filer2/users/kanishk/miniconda3/lib/python3.7/site-packages (from requests->transformers) (1.26.8)\n",
      "Requirement already satisfied: charset-normalizer~=2.0.0 in /dvmm-filer2/users/kanishk/miniconda3/lib/python3.7/site-packages (from requests->transformers) (2.0.4)\n",
      "Requirement already satisfied: idna<4,>=2.5 in /dvmm-filer2/users/kanishk/miniconda3/lib/python3.7/site-packages (from requests->transformers) (3.3)\n",
      "Requirement already satisfied: certifi>=2017.4.17 in /dvmm-filer2/users/kanishk/miniconda3/lib/python3.7/site-packages (from requests->transformers) (2022.9.24)\n",
      "Installing collected packages: pyyaml, filelock, tokenizers, regex, huggingface-hub, transformers\n",
      "Successfully installed filelock-3.8.2 huggingface-hub-0.11.1 pyyaml-6.0 regex-2022.10.31 tokenizers-0.13.2 transformers-4.25.1\n"
     ]
    }
   ],
   "source": [
    "!pip install transformers"
   ]
  },
  {
   "cell_type": "code",
   "execution_count": 23,
   "id": "2166439f",
   "metadata": {},
   "outputs": [],
   "source": [
    "import lrqa.preproc as prepoc"
   ]
  },
  {
   "cell_type": "code",
   "execution_count": 24,
   "id": "3dbe5e80",
   "metadata": {},
   "outputs": [
    {
     "data": {
      "text/plain": [
       "<module 'lrqa.preproc' from '/dvmm-filer3a/users/kanishk/projects/quality-main/baselines/lrqa/preproc/__init__.py'>"
      ]
     },
     "execution_count": 24,
     "metadata": {},
     "output_type": "execute_result"
    }
   ],
   "source": [
    "prepoc"
   ]
  },
  {
   "cell_type": "code",
   "execution_count": 2,
   "id": "191363c3",
   "metadata": {},
   "outputs": [],
   "source": [
    "!export PYTHONPATH=\"/dvmm-filer3a/users/kanishk/projects/quality-main/baselines/lrqa/tasks:$PYTHONPATH\""
   ]
  },
  {
   "cell_type": "code",
   "execution_count": 4,
   "id": "206f032f",
   "metadata": {},
   "outputs": [
    {
     "name": "stdout",
     "output_type": "stream",
     "text": [
      "/dvmm-filer3a/users/kanishk/projects/quality-main/baselines\n",
      "/dvmm-filer2/users/kanishk/miniconda3/envs/py37/lib/python37.zip\n",
      "/dvmm-filer2/users/kanishk/miniconda3/envs/py37/lib/python3.7\n",
      "/dvmm-filer2/users/kanishk/miniconda3/envs/py37/lib/python3.7/lib-dynload\n",
      "\n",
      "/dvmm-filer2/users/kanishk/miniconda3/envs/py37/lib/python3.7/site-packages\n",
      "/dvmm-filer2/users/kanishk/miniconda3/envs/py37/lib/python3.7/site-packages/IPython/extensions\n",
      "/dvmm-filer3a/users/kanishk/.ipython\n"
     ]
    }
   ],
   "source": [
    "import sys\n",
    "for lines in sys.path:\n",
    "    print(lines)"
   ]
  },
  {
   "cell_type": "code",
   "execution_count": 5,
   "id": "5145904e",
   "metadata": {},
   "outputs": [
    {
     "data": {
      "text/plain": [
       "'/dvmm-filer3a/users/kanishk/projects/quality-main/baselines'"
      ]
     },
     "execution_count": 5,
     "metadata": {},
     "output_type": "execute_result"
    }
   ],
   "source": [
    "pwd"
   ]
  },
  {
   "cell_type": "code",
   "execution_count": 9,
   "id": "086fc9e6",
   "metadata": {},
   "outputs": [],
   "source": [
    "!cp -r '/dvmm-filer3a/users/kanishk/projects/quality-main/baselines/lrqa' '/dvmm-filer2/users/kanishk/miniconda3/envs/py37/lib/python3.7/site-packages/'"
   ]
  },
  {
   "cell_type": "code",
   "execution_count": 2,
   "id": "8af32f1d",
   "metadata": {},
   "outputs": [],
   "source": [
    "import lrqa"
   ]
  },
  {
   "cell_type": "code",
   "execution_count": 10,
   "id": "30e9df99",
   "metadata": {},
   "outputs": [
    {
     "name": "stdout",
     "output_type": "stream",
     "text": [
      "Requirement already satisfied: transformers in /dvmm-filer2/users/kanishk/miniconda3/lib/python3.7/site-packages (4.25.1)\n",
      "Requirement already satisfied: pyyaml>=5.1 in /dvmm-filer2/users/kanishk/miniconda3/lib/python3.7/site-packages (from transformers) (6.0)\n",
      "Requirement already satisfied: packaging>=20.0 in /dvmm-filer2/users/kanishk/miniconda3/lib/python3.7/site-packages (from transformers) (21.3)\n",
      "Requirement already satisfied: regex!=2019.12.17 in /dvmm-filer2/users/kanishk/miniconda3/lib/python3.7/site-packages (from transformers) (2022.10.31)\n",
      "Requirement already satisfied: huggingface-hub<1.0,>=0.10.0 in /dvmm-filer2/users/kanishk/miniconda3/lib/python3.7/site-packages (from transformers) (0.11.1)\n",
      "Requirement already satisfied: numpy>=1.17 in /dvmm-filer2/users/kanishk/miniconda3/lib/python3.7/site-packages (from transformers) (1.21.6)\n",
      "Requirement already satisfied: requests in /dvmm-filer2/users/kanishk/miniconda3/lib/python3.7/site-packages (from transformers) (2.27.1)\n",
      "Requirement already satisfied: importlib-metadata in /dvmm-filer2/users/kanishk/miniconda3/lib/python3.7/site-packages (from transformers) (4.11.3)\n",
      "Requirement already satisfied: filelock in /dvmm-filer2/users/kanishk/miniconda3/lib/python3.7/site-packages (from transformers) (3.8.2)\n",
      "Requirement already satisfied: tokenizers!=0.11.3,<0.14,>=0.11.1 in /dvmm-filer2/users/kanishk/miniconda3/lib/python3.7/site-packages (from transformers) (0.13.2)\n",
      "Requirement already satisfied: tqdm>=4.27 in /dvmm-filer2/users/kanishk/miniconda3/lib/python3.7/site-packages (from transformers) (4.63.0)\n",
      "Requirement already satisfied: typing-extensions>=3.7.4.3 in /dvmm-filer2/users/kanishk/miniconda3/lib/python3.7/site-packages (from huggingface-hub<1.0,>=0.10.0->transformers) (4.4.0)\n",
      "Requirement already satisfied: pyparsing!=3.0.5,>=2.0.2 in /dvmm-filer2/users/kanishk/miniconda3/lib/python3.7/site-packages (from packaging>=20.0->transformers) (3.0.9)\n",
      "Requirement already satisfied: zipp>=0.5 in /dvmm-filer2/users/kanishk/miniconda3/lib/python3.7/site-packages (from importlib-metadata->transformers) (3.8.0)\n",
      "Requirement already satisfied: idna<4,>=2.5 in /dvmm-filer2/users/kanishk/miniconda3/lib/python3.7/site-packages (from requests->transformers) (3.3)\n",
      "Requirement already satisfied: charset-normalizer~=2.0.0 in /dvmm-filer2/users/kanishk/miniconda3/lib/python3.7/site-packages (from requests->transformers) (2.0.4)\n",
      "Requirement already satisfied: urllib3<1.27,>=1.21.1 in /dvmm-filer2/users/kanishk/miniconda3/lib/python3.7/site-packages (from requests->transformers) (1.26.8)\n",
      "Requirement already satisfied: certifi>=2017.4.17 in /dvmm-filer2/users/kanishk/miniconda3/lib/python3.7/site-packages (from requests->transformers) (2022.9.24)\n"
     ]
    }
   ],
   "source": [
    "!python -m pip install transformers"
   ]
  },
  {
   "cell_type": "code",
   "execution_count": 2,
   "id": "33c5689e",
   "metadata": {},
   "outputs": [],
   "source": [
    "import transformers"
   ]
  },
  {
   "cell_type": "code",
   "execution_count": null,
   "id": "34365e34",
   "metadata": {},
   "outputs": [
    {
     "name": "stdout",
     "output_type": "stream",
     "text": [
      "Tue Dec 13 19:43:26 2022       \n",
      "+-----------------------------------------------------------------------------+\n",
      "| NVIDIA-SMI 450.51.05    Driver Version: 450.51.05    CUDA Version: 11.0     |\n",
      "|-------------------------------+----------------------+----------------------+\n",
      "| GPU  Name        Persistence-M| Bus-Id        Disp.A | Volatile Uncorr. ECC |\n",
      "| Fan  Temp  Perf  Pwr:Usage/Cap|         Memory-Usage | GPU-Util  Compute M. |\n",
      "|                               |                      |               MIG M. |\n",
      "|===============================+======================+======================|\n",
      "|   0  GeForce GTX 108...  On   | 00000000:02:00.0 Off |                  N/A |\n",
      "| 49%   81C    P2    86W / 250W |  10405MiB / 11178MiB |     71%      Default |\n",
      "|                               |                      |                  N/A |\n",
      "+-------------------------------+----------------------+----------------------+\n",
      "|   1  GeForce GTX 108...  On   | 00000000:03:00.0 Off |                  N/A |\n",
      "| 61%   83C    P2   102W / 250W |   7517MiB / 11178MiB |     31%      Default |\n",
      "|                               |                      |                  N/A |\n",
      "+-------------------------------+----------------------+----------------------+\n",
      "|   2  GeForce GTX 108...  On   | 00000000:82:00.0 Off |                  N/A |\n",
      "| 50%   83C    P2    81W / 250W |   7469MiB / 11178MiB |     61%      Default |\n",
      "|                               |                      |                  N/A |\n",
      "+-------------------------------+----------------------+----------------------+\n",
      "|   3  GeForce GTX 108...  On   | 00000000:83:00.0 Off |                  N/A |\n",
      "| 50%   82C    P2    85W / 250W |   9192MiB / 11178MiB |     43%      Default |\n",
      "|                               |                      |                  N/A |\n",
      "+-------------------------------+----------------------+----------------------+\n",
      "                                                                               \n",
      "+-----------------------------------------------------------------------------+\n",
      "| Processes:                                                                  |\n",
      "|  GPU   GI   CI        PID   Type   Process name                  GPU Memory |\n",
      "|        ID   ID                                                   Usage      |\n",
      "|=============================================================================|\n",
      "|    0   N/A  N/A      5053      C   python                          10395MiB |\n",
      "|    1   N/A  N/A      5053      C   python                           7421MiB |\n",
      "|    2   N/A  N/A      5053      C   python                           7465MiB |\n",
      "|    3   N/A  N/A      5053      C   python                           7721MiB |\n",
      "|    3   N/A  N/A     25984      C   ...3/envs/vl-bert/bin/python     1467MiB |\n",
      "+-----------------------------------------------------------------------------+\n"
     ]
    }
   ],
   "source": [
    "!nvidia-smi"
   ]
  },
  {
   "cell_type": "code",
   "execution_count": 10,
   "id": "fffffe30",
   "metadata": {},
   "outputs": [
    {
     "name": "stdout",
     "output_type": "stream",
     "text": [
      "/dvmm-filer3a/users/kanishk/projects/quality-main/baselines/lrqa\n"
     ]
    }
   ],
   "source": [
    "CUDA_VISIBLE_DEVICES=1 "
   ]
  },
  {
   "cell_type": "code",
   "execution_count": null,
   "id": "4f122e03",
   "metadata": {},
   "outputs": [],
   "source": []
  },
  {
   "cell_type": "code",
   "execution_count": 11,
   "id": "1ad4c2a4",
   "metadata": {},
   "outputs": [
    {
     "name": "stdout",
     "output_type": "stream",
     "text": [
      "Traceback (most recent call last):\r\n",
      "  File \"/dvmm-filer2/users/kanishk/miniconda3/lib/python3.7/runpy.py\", line 183, in _run_module_as_main\r\n",
      "    mod_name, mod_spec, code = _get_module_details(mod_name, _Error)\r\n",
      "  File \"/dvmm-filer2/users/kanishk/miniconda3/lib/python3.7/runpy.py\", line 109, in _get_module_details\r\n",
      "    __import__(pkg_name)\r\n",
      "  File \"/dvmm-filer3a/users/kanishk/projects/quality-main/baselines/lrqa/run_lrqa.py\", line 24, in <module>\r\n",
      "    import lrqa\r\n",
      "ModuleNotFoundError: No module named 'lrqa'\r\n"
     ]
    }
   ],
   "source": [
    "!python -m run_lrqa.py \\\n",
    "    --model_name_or_path roberta-base \\\n",
    "    --model_mode mc \\\n",
    "    --task_name cosmosqa \\\n",
    "    --output_dir ${EXPDIR} \\\n",
    "    --per_device_train_batch_size 8 \\\n",
    "    --per_device_eval_batch_size 16 \\\n",
    "    --gradient_accumulation_steps 1 \\\n",
    "    --do_train \\\n",
    "    --do_eval \\\n",
    "    --evaluation_strategy steps \\\n",
    "    --eval_steps 500 \\\n",
    "    --save_strategy no \\\n",
    "    --load_best_model_at_end \\\n",
    "    --num_train_epochs 1"
   ]
  }
 ],
 "metadata": {
  "kernelspec": {
   "display_name": "py37",
   "language": "python",
   "name": "py37"
  },
  "language_info": {
   "codemirror_mode": {
    "name": "ipython",
    "version": 3
   },
   "file_extension": ".py",
   "mimetype": "text/x-python",
   "name": "python",
   "nbconvert_exporter": "python",
   "pygments_lexer": "ipython3",
   "version": "3.7.15"
  }
 },
 "nbformat": 4,
 "nbformat_minor": 5
}
